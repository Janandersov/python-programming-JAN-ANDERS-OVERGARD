{
 "cells": [
  {
   "cell_type": "code",
   "execution_count": 57,
   "outputs": [],
   "source": [
    "class Cat:\n",
    "    def __init__(self, name, age):\n",
    "        self.name = name\n",
    "        self.age = age\n",
    "        \n",
    "    def greet(self, other = None):\n",
    "        if other is None: \n",
    "            print(f\"Hello, I'm {self.name}, and I'm {self.age} years old.\")\n",
    "        elif other.age > self.age:\n",
    "            print(f\"Hi {other.name}, my name is {self.name}, and I'm {other.age - self.age} year(s) younger than you.\")\n",
    "        elif other.age < self.age:\n",
    "            print(f\"Hi {other.name}, my name is {self.name}, and I'm {self.age - other.age} year(s) older than you.\")\n",
    "        else:\n",
    "            print(f\"Hi {other.name}, my name is {self.name}, and we're both {self.age} year(s) old!\")\n",
    "        \n",
    "        \n"
   ],
   "metadata": {
    "collapsed": false,
    "ExecuteTime": {
     "end_time": "2023-09-26T09:47:18.040310900Z",
     "start_time": "2023-09-26T09:47:18.013598700Z"
    }
   },
   "id": "902665eece05c7e5"
  },
  {
   "cell_type": "code",
   "execution_count": 58,
   "outputs": [
    {
     "name": "stdout",
     "output_type": "stream",
     "text": [
      "Hello, I'm Misse, and I'm 3 years old.\n",
      "Hello, I'm Kisse, and I'm 2 years old.\n",
      "Hello, I'm Mjau, and I'm 5 years old.\n",
      "Hello, I'm Anton, and I'm 3 years old.\n",
      "Hi Kisse, my name is Misse, and I'm 1 year(s) older than you.\n",
      "Hi Mjau, my name is Misse, and I'm 2 year(s) younger than you.\n",
      "Hi Anton, my name is Misse, and we're both 3 year(s) old!\n"
     ]
    }
   ],
   "source": [
    "my_cat = Cat(\"Misse\", 3)\n",
    "my_other_cat = Cat(\"Kisse\", 2)\n",
    "my_third_cat = Cat(\"Mjau\", 5)\n",
    "my_fourth_cat = Cat(\"Anton\", 3)\n",
    "\n",
    "my_cat.greet()\n",
    "my_other_cat.greet()\n",
    "my_third_cat.greet()\n",
    "my_fourth_cat.greet()\n",
    "my_cat.greet(my_other_cat)\n",
    "my_cat.greet(my_third_cat)\n",
    "my_cat.greet(my_fourth_cat)\n",
    "        "
   ],
   "metadata": {
    "collapsed": false,
    "ExecuteTime": {
     "end_time": "2023-09-26T09:47:18.042432300Z",
     "start_time": "2023-09-26T09:47:18.020059600Z"
    }
   },
   "id": "37b09f9cab81009"
  }
 ],
 "metadata": {
  "kernelspec": {
   "display_name": "Python 3",
   "language": "python",
   "name": "python3"
  },
  "language_info": {
   "codemirror_mode": {
    "name": "ipython",
    "version": 2
   },
   "file_extension": ".py",
   "mimetype": "text/x-python",
   "name": "python",
   "nbconvert_exporter": "python",
   "pygments_lexer": "ipython2",
   "version": "2.7.6"
  }
 },
 "nbformat": 4,
 "nbformat_minor": 5
}
