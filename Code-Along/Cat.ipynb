{
 "cells": [
  {
   "cell_type": "code",
   "execution_count": 69,
   "outputs": [],
   "source": [
    "class Cat:\n",
    "    def __init__(self, name, age):\n",
    "        self.name = name\n",
    "        self.age = age\n",
    "        \n",
    "    def greet(self, other = None):\n",
    "        if other is None: \n",
    "            print(f\"Hello, I'm {self.name}, and I'm {self.age} years old.\")\n",
    "        elif other.age > self.age:\n",
    "            print(f\"Hi {other.name}, my name is {self.name}, and I'm {other.age - self.age} year(s) younger than you.\")\n",
    "        elif other.age < self.age:\n",
    "            print(f\"Hi {other.name}, my name is {self.name}, and I'm {self.age - other.age} year(s) older than you.\")\n",
    "        else:\n",
    "            print(f\"Hi {other.name}, my name is {self.name}, and we're both {self.age} year(s) old!\")\n",
    "    \n",
    "    def print_best_friend(self):\n",
    "        if not hasattr(self, \"best_friend\"): return\n",
    "        if self.name in None: return \n",
    "        \n",
    "        print(f\"I'm {self.name}, and my best fried is {self.best_friend.name}\")\n",
    "        \n",
    "            \n",
    "        \n",
    "        \n"
   ],
   "metadata": {
    "collapsed": false,
    "ExecuteTime": {
     "end_time": "2023-09-26T11:30:39.669495100Z",
     "start_time": "2023-09-26T11:30:39.652412400Z"
    }
   },
   "id": "902665eece05c7e5"
  },
  {
   "cell_type": "code",
   "execution_count": 70,
   "outputs": [
    {
     "name": "stdout",
     "output_type": "stream",
     "text": [
      "Hello, I'm Misse, and I'm 3 years old.\n",
      "Hello, I'm Kisse, and I'm 2 years old.\n",
      "Hello, I'm Mjau, and I'm 5 years old.\n",
      "Hello, I'm Anton, and I'm 3 years old.\n",
      "Hi Kisse, my name is Misse, and I'm 1 year(s) older than you.\n",
      "Hi Mjau, my name is Misse, and I'm 2 year(s) younger than you.\n",
      "Hi Anton, my name is Misse, and we're both 3 year(s) old!\n"
     ]
    },
    {
     "ename": "TypeError",
     "evalue": "argument of type 'NoneType' is not iterable",
     "output_type": "error",
     "traceback": [
      "\u001B[1;31m---------------------------------------------------------------------------\u001B[0m",
      "\u001B[1;31mTypeError\u001B[0m                                 Traceback (most recent call last)",
      "Cell \u001B[1;32mIn[70], line 20\u001B[0m\n\u001B[0;32m     17\u001B[0m my_cat\u001B[38;5;241m.\u001B[39mgreet(my_fourth_cat)\n\u001B[0;32m     19\u001B[0m \u001B[38;5;28;01mfor\u001B[39;00m cat \u001B[38;5;129;01min\u001B[39;00m cats:\n\u001B[1;32m---> 20\u001B[0m     \u001B[43mcat\u001B[49m\u001B[38;5;241;43m.\u001B[39;49m\u001B[43mprint_best_friend\u001B[49m\u001B[43m(\u001B[49m\u001B[43m)\u001B[49m\n",
      "Cell \u001B[1;32mIn[69], line 18\u001B[0m, in \u001B[0;36mCat.print_best_friend\u001B[1;34m(self)\u001B[0m\n\u001B[0;32m     16\u001B[0m \u001B[38;5;28;01mdef\u001B[39;00m \u001B[38;5;21mprint_best_friend\u001B[39m(\u001B[38;5;28mself\u001B[39m):\n\u001B[0;32m     17\u001B[0m     \u001B[38;5;28;01mif\u001B[39;00m \u001B[38;5;129;01mnot\u001B[39;00m \u001B[38;5;28mhasattr\u001B[39m(\u001B[38;5;28mself\u001B[39m, \u001B[38;5;124m\"\u001B[39m\u001B[38;5;124mbest_friend\u001B[39m\u001B[38;5;124m\"\u001B[39m): \u001B[38;5;28;01mreturn\u001B[39;00m\n\u001B[1;32m---> 18\u001B[0m     \u001B[38;5;28;01mif\u001B[39;00m \u001B[38;5;28;43mself\u001B[39;49m\u001B[38;5;241;43m.\u001B[39;49m\u001B[43mname\u001B[49m\u001B[43m \u001B[49m\u001B[38;5;129;43;01min\u001B[39;49;00m\u001B[43m \u001B[49m\u001B[38;5;28;43;01mNone\u001B[39;49;00m: \u001B[38;5;28;01mreturn\u001B[39;00m \n\u001B[0;32m     20\u001B[0m     \u001B[38;5;28mprint\u001B[39m(\u001B[38;5;124mf\u001B[39m\u001B[38;5;124m\"\u001B[39m\u001B[38;5;124mI\u001B[39m\u001B[38;5;124m'\u001B[39m\u001B[38;5;124mm \u001B[39m\u001B[38;5;132;01m{\u001B[39;00m\u001B[38;5;28mself\u001B[39m\u001B[38;5;241m.\u001B[39mname\u001B[38;5;132;01m}\u001B[39;00m\u001B[38;5;124m, and my best fried is \u001B[39m\u001B[38;5;132;01m{\u001B[39;00m\u001B[38;5;28mself\u001B[39m\u001B[38;5;241m.\u001B[39mbest_friend\u001B[38;5;241m.\u001B[39mname\u001B[38;5;132;01m}\u001B[39;00m\u001B[38;5;124m\"\u001B[39m)\n",
      "\u001B[1;31mTypeError\u001B[0m: argument of type 'NoneType' is not iterable"
     ]
    }
   ],
   "source": [
    "my_cat = Cat(\"Misse\", 3)\n",
    "my_other_cat = Cat(\"Kisse\", 2)\n",
    "my_third_cat = Cat(\"Mjau\", 5)\n",
    "my_fourth_cat = Cat(\"Anton\", 3)\n",
    "\n",
    "my_cat.best_friend = my_third_cat\n",
    "my_third_cat.best_friend = my_cat\n",
    "\n",
    "cats = [my_cat, my_other_cat, my_third_cat, my_fourth_cat]\n",
    "\n",
    "my_cat.greet()\n",
    "my_other_cat.greet()\n",
    "my_third_cat.greet()\n",
    "my_fourth_cat.greet()\n",
    "my_cat.greet(my_other_cat)\n",
    "my_cat.greet(my_third_cat)\n",
    "my_cat.greet(my_fourth_cat)\n",
    "\n",
    "for cat in cats:\n",
    "    cat.print_best_friend()\n",
    "        "
   ],
   "metadata": {
    "collapsed": false,
    "ExecuteTime": {
     "end_time": "2023-09-26T11:30:39.705518500Z",
     "start_time": "2023-09-26T11:30:39.659603400Z"
    }
   },
   "id": "37b09f9cab81009"
  }
 ],
 "metadata": {
  "kernelspec": {
   "display_name": "Python 3",
   "language": "python",
   "name": "python3"
  },
  "language_info": {
   "codemirror_mode": {
    "name": "ipython",
    "version": 2
   },
   "file_extension": ".py",
   "mimetype": "text/x-python",
   "name": "python",
   "nbconvert_exporter": "python",
   "pygments_lexer": "ipython2",
   "version": "2.7.6"
  }
 },
 "nbformat": 4,
 "nbformat_minor": 5
}
