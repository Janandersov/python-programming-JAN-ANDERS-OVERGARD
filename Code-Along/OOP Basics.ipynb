{
 "cells": [
  {
   "cell_type": "markdown",
   "source": [
    "# Object-oriented programming (OOP)\n",
    "- A \"Class\" is a blueprint that can be used to create objects.\n",
    "- An \"instance\" is the actual object containing data and methods."
   ],
   "metadata": {
    "collapsed": false
   },
   "id": "a64ff25466b4ae49"
  },
  {
   "cell_type": "markdown",
   "source": [],
   "metadata": {
    "collapsed": false
   },
   "id": "3c156ba5cbbc680b"
  },
  {
   "cell_type": "code",
   "execution_count": 37,
   "outputs": [
    {
     "name": "stdout",
     "output_type": "stream",
     "text": [
      "Jan Övergård\n",
      "Anna Karlsson\n"
     ]
    }
   ],
   "source": [
    "student_a = {\"FirstName\": \"Jan\", \"LastName\": \"Övergård\", \"Age\": 30, \"Grade\": 3.4}\n",
    "student_b = {\"FirstName\": \"Anna\", \"LastName\": \"Karlsson\", \"Age\": 24, \"Grade\": 4.2}\n",
    "\n",
    "students = [student_a, student_b]\n",
    "\n",
    "def set_grade(student, grade):\n",
    "    student[\"Grade\"] = grade\n",
    "    \n",
    "def get_name(student):\n",
    "    return f'{student[\"FirstName\"]} {student[\"LastName\"]}'\n",
    "    \n",
    "for student in students:\n",
    "    set_grade(student, 3.0)\n",
    "    print(get_name(student))\n",
    "\n",
    "pass"
   ],
   "metadata": {
    "collapsed": false,
    "ExecuteTime": {
     "end_time": "2023-09-26T08:20:42.514670400Z",
     "start_time": "2023-09-26T08:20:42.493592800Z"
    }
   },
   "id": "f1ccf6adfe887a7b"
  },
  {
   "cell_type": "code",
   "execution_count": 63,
   "outputs": [],
   "source": [
    "class Student:\n",
    "    def __init__(self, name):\n",
    "        self.grade = 0.0\n",
    "        self.name = name\n",
    "    \n",
    "    def set_grade(self, grade):\n",
    "        self.grade = grade    "
   ],
   "metadata": {
    "collapsed": false,
    "ExecuteTime": {
     "end_time": "2023-09-26T08:33:43.165233900Z",
     "start_time": "2023-09-26T08:33:43.142936600Z"
    }
   },
   "id": "2fa26e20c5b2b7b0"
  },
  {
   "cell_type": "code",
   "execution_count": 64,
   "outputs": [
    {
     "name": "stdout",
     "output_type": "stream",
     "text": [
      "{'grade': 0.0, 'name': 'Jan'}\n",
      "{'grade': 0.0, 'name': 'Anna'}\n",
      "\n",
      "{'grade': 4.5, 'name': 'Jan'}\n",
      "{'grade': 0.0, 'name': 'Anna'}\n",
      "\n",
      "{'grade': 3.5, 'name': 'Jan'}\n",
      "{'grade': 0.0, 'name': 'Anna'}\n"
     ]
    }
   ],
   "source": [
    "student_a = Student(\"Jan\")\n",
    "student_b = Student(\"Anna\")\n",
    "\n",
    "print(student_a.__dict__)\n",
    "print(student_b.__dict__)\n",
    "Student.set_grade(student_a, 4.5)\n",
    "print()\n",
    "print(student_a.__dict__)\n",
    "print(student_b.__dict__)\n",
    "student_a.set_grade(3.5)\n",
    "print()\n",
    "print(student_a.__dict__)\n",
    "print(student_b.__dict__)"
   ],
   "metadata": {
    "collapsed": false,
    "ExecuteTime": {
     "end_time": "2023-09-26T08:33:43.195546600Z",
     "start_time": "2023-09-26T08:33:43.149345500Z"
    }
   },
   "id": "c37bde33d6c725f1"
  },
  {
   "cell_type": "code",
   "execution_count": 66,
   "outputs": [
    {
     "name": "stdout",
     "output_type": "stream",
     "text": [
      "<__main__.Student object at 0x000001D62C0B3CD0>\n",
      "<class '__main__.Student'>\n",
      "Jan\n",
      "Anna\n",
      "{'grade': 0.0, 'name': 'Jan', 'age': 30, 'dict': {'FirstName': 'Jan', 'LastName': 'Övergård', 'Age': 30, 'Grade': 3.4}}\n",
      "Jan\n"
     ]
    }
   ],
   "source": [
    "student_a = Student(\"Jan\")\n",
    "student_b = Student(\"Anna\")\n",
    "\n",
    "student_a.name = \"Jan\"\n",
    "student_a.age = 30  \n",
    "student_a.dict = {\"FirstName\": \"Jan\", \"LastName\": \"Övergård\", \"Age\": 30, \"Grade\": 3.4}\n",
    "student_b.name = \"Anna\"\n",
    "\n",
    "print(student_a)\n",
    "print(type(student_a))\n",
    "print(student_a.name)\n",
    "print(student_b.name)\n",
    "print(student_a.__dict__)\n",
    "print(student_a.__dict__[\"name\"])"
   ],
   "metadata": {
    "collapsed": false,
    "ExecuteTime": {
     "end_time": "2023-09-26T08:34:52.347455100Z",
     "start_time": "2023-09-26T08:34:52.321616600Z"
    }
   },
   "id": "79ab4f8267a6c08a"
  },
  {
   "cell_type": "code",
   "execution_count": 67,
   "outputs": [
    {
     "data": {
      "text/plain": "'JAN'"
     },
     "execution_count": 67,
     "metadata": {},
     "output_type": "execute_result"
    }
   ],
   "source": [
    "class Str:\n",
    "    def upper(self):\n",
    "        ...\n",
    "    \n",
    "name = \"Jan\"\n",
    "\n",
    "name.upper()"
   ],
   "metadata": {
    "collapsed": false,
    "ExecuteTime": {
     "end_time": "2023-09-26T08:35:24.442707400Z",
     "start_time": "2023-09-26T08:35:24.400530400Z"
    }
   },
   "id": "525dea1aa3191aaf"
  },
  {
   "cell_type": "code",
   "execution_count": 70,
   "outputs": [],
   "source": [
    "class Cat:\n",
    "    def __int__(self, name, age):\n",
    "        self.name = name\n",
    "        self.age = age\n"
   ],
   "metadata": {
    "collapsed": false,
    "ExecuteTime": {
     "end_time": "2023-09-26T09:10:20.385416700Z",
     "start_time": "2023-09-26T09:10:20.358810500Z"
    }
   },
   "id": "94088a0e63917e02"
  },
  {
   "cell_type": "code",
   "execution_count": null,
   "outputs": [],
   "source": [
    "my_cat = Cat(\"Misse\", 3)\n",
    "print(my_cat)\n",
    "        "
   ],
   "metadata": {
    "collapsed": false
   },
   "id": "4d09fb8e9089c221"
  }
 ],
 "metadata": {
  "kernelspec": {
   "display_name": "Python 3",
   "language": "python",
   "name": "python3"
  },
  "language_info": {
   "codemirror_mode": {
    "name": "ipython",
    "version": 2
   },
   "file_extension": ".py",
   "mimetype": "text/x-python",
   "name": "python",
   "nbconvert_exporter": "python",
   "pygments_lexer": "ipython2",
   "version": "2.7.6"
  }
 },
 "nbformat": 4,
 "nbformat_minor": 5
}
