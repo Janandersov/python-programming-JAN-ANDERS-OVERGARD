{
 "cells": [
  {
   "cell_type": "markdown",
   "source": [
    "# Properties (sing. Property, sv. Egenskap)\n",
    "A property is a python construction (or OOP concept) that works similar to an attribute, with the difference that an attribute stores (and reads) the value directly to memory, while a property uses getter and setter methods to change the values of the property.\n",
    "\n",
    "From the \"outside\" (of the class definition) then a property of an object is set, the objects internal setter method will be called to handle the operation. This method is marked in the class definition bu a decorator called {name}.setter (where \"name\" is hte name of the property).\n",
    "\n",
    "When the property is read (from the \"outside\"), the objects internal getter method will be called to return a value. The getter method is marked in the class definition bu a decorator called @property"
   ],
   "metadata": {
    "collapsed": false
   },
   "id": "e1a2b44d63806b06"
  },
  {
   "cell_type": "code",
   "execution_count": 23,
   "outputs": [],
   "source": [
    "class Employee:\n",
    "    def __init__(self, name, salary):\n",
    "      \n",
    "      self.name = name\n",
    "      self.salary = salary\n",
    "    # Getter method   \n",
    "    @property    \n",
    "    def salary(self):\n",
    "        return self._salary\n",
    "    # Setter method\n",
    "    @salary.setter\n",
    "    def salary(self, salary):\n",
    "       self._salary = 0 if salary < 0 else salary     "
   ],
   "metadata": {
    "collapsed": false,
    "ExecuteTime": {
     "end_time": "2023-09-28T09:45:14.401398200Z",
     "start_time": "2023-09-28T09:45:14.382962300Z"
    }
   },
   "id": "71fbed5d326c65f9"
  },
  {
   "cell_type": "code",
   "execution_count": 24,
   "outputs": [
    {
     "name": "stdout",
     "output_type": "stream",
     "text": [
      "5000\n"
     ]
    }
   ],
   "source": [
    "employee = Employee(\"Anders\", 40000)\n",
    "employee2 = Employee(\"Bertil\", -40000)\n",
    "\n",
    "# employee.set_salary = 50000\n",
    "# employee2.set_salary = (-40000)\n",
    "\n",
    "# employee._salary = -50\n",
    "\n",
    "# print(employee.get_salary())\n",
    "# print(employee2.get_salary())\n",
    "\n",
    "employee.salary = 5000\n",
    "print(employee.salary)"
   ],
   "metadata": {
    "collapsed": false,
    "ExecuteTime": {
     "end_time": "2023-09-28T09:45:15.571962200Z",
     "start_time": "2023-09-28T09:45:15.549201600Z"
    }
   },
   "id": "941577b0e853ff86"
  },
  {
   "cell_type": "code",
   "execution_count": null,
   "outputs": [],
   "source": [],
   "metadata": {
    "collapsed": false
   },
   "id": "afb32a5dd4027a86"
  }
 ],
 "metadata": {
  "kernelspec": {
   "display_name": "Python 3",
   "language": "python",
   "name": "python3"
  },
  "language_info": {
   "codemirror_mode": {
    "name": "ipython",
    "version": 2
   },
   "file_extension": ".py",
   "mimetype": "text/x-python",
   "name": "python",
   "nbconvert_exporter": "python",
   "pygments_lexer": "ipython2",
   "version": "2.7.6"
  }
 },
 "nbformat": 4,
 "nbformat_minor": 5
}
