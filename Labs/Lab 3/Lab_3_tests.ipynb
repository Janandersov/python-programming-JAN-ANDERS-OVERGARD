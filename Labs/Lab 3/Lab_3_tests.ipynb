{
 "cells": [
  {
   "cell_type": "markdown",
   "source": [
    "### Testing code with prompts from the lab description "
   ],
   "metadata": {
    "collapsed": false
   },
   "id": "4e86fcab94e9e082"
  },
  {
   "cell_type": "code",
   "execution_count": 3,
   "id": "initial_id",
   "metadata": {
    "collapsed": true,
    "ExecuteTime": {
     "end_time": "2023-10-16T11:25:43.263391200Z",
     "start_time": "2023-10-16T11:25:42.940577700Z"
    }
   },
   "outputs": [
    {
     "name": "stdout",
     "output_type": "stream",
     "text": [
      "True\n",
      "False\n",
      "True\n",
      "False\n"
     ]
    },
    {
     "ename": "TypeError",
     "evalue": "x value has to be either int or float, not <class 'str'>",
     "output_type": "error",
     "traceback": [
      "\u001B[1;31m---------------------------------------------------------------------------\u001B[0m",
      "\u001B[1;31mTypeError\u001B[0m                                 Traceback (most recent call last)",
      "Cell \u001B[1;32mIn[3], line 13\u001B[0m\n\u001B[0;32m     11\u001B[0m circle1\u001B[38;5;241m.\u001B[39mtranslate(\u001B[38;5;241m5\u001B[39m,\u001B[38;5;241m5\u001B[39m)\n\u001B[0;32m     12\u001B[0m \u001B[38;5;28mprint\u001B[39m(circle1\u001B[38;5;241m.\u001B[39mis_inside_circle(\u001B[38;5;241m0.5\u001B[39m,\u001B[38;5;241m0.5\u001B[39m))\n\u001B[1;32m---> 13\u001B[0m \u001B[43mcircle1\u001B[49m\u001B[38;5;241;43m.\u001B[39;49m\u001B[43mtranslate\u001B[49m\u001B[43m(\u001B[49m\u001B[38;5;124;43m\"\u001B[39;49m\u001B[38;5;124;43mTRE\u001B[39;49m\u001B[38;5;124;43m\"\u001B[39;49m\u001B[43m,\u001B[49m\u001B[38;5;241;43m5\u001B[39;49m\u001B[43m)\u001B[49m\n",
      "File \u001B[1;32m~\\Documents\\GitHub\\python-programming-JAN-ANDERS-OVERGARD\\Labs\\Lab 3\\geometry_shapes.py:57\u001B[0m, in \u001B[0;36mShape.translate\u001B[1;34m(self, x_value, y_value)\u001B[0m\n\u001B[0;32m     55\u001B[0m \u001B[38;5;28;01mdef\u001B[39;00m \u001B[38;5;21mtranslate\u001B[39m(\u001B[38;5;28mself\u001B[39m, x_value: (\u001B[38;5;28mint\u001B[39m \u001B[38;5;241m|\u001B[39m \u001B[38;5;28mfloat\u001B[39m), y_value: (\u001B[38;5;28mint\u001B[39m \u001B[38;5;241m|\u001B[39m \u001B[38;5;28mfloat\u001B[39m)):\n\u001B[0;32m     56\u001B[0m     \u001B[38;5;28;01mif\u001B[39;00m \u001B[38;5;129;01mnot\u001B[39;00m \u001B[38;5;28misinstance\u001B[39m(x_value, (\u001B[38;5;28mint\u001B[39m, \u001B[38;5;28mfloat\u001B[39m)):\n\u001B[1;32m---> 57\u001B[0m         \u001B[38;5;28;01mraise\u001B[39;00m \u001B[38;5;167;01mTypeError\u001B[39;00m(\u001B[38;5;124mf\u001B[39m\u001B[38;5;124m\"\u001B[39m\u001B[38;5;124mx value has to be either int or float, not \u001B[39m\u001B[38;5;132;01m{\u001B[39;00m\u001B[38;5;28mtype\u001B[39m(x_value)\u001B[38;5;132;01m}\u001B[39;00m\u001B[38;5;124m\"\u001B[39m)\n\u001B[0;32m     58\u001B[0m     \u001B[38;5;28mself\u001B[39m\u001B[38;5;241m.\u001B[39mx_position \u001B[38;5;241m=\u001B[39m x_value\n\u001B[0;32m     60\u001B[0m     \u001B[38;5;28;01mif\u001B[39;00m \u001B[38;5;129;01mnot\u001B[39;00m \u001B[38;5;28misinstance\u001B[39m(y_value, (\u001B[38;5;28mint\u001B[39m, \u001B[38;5;28mfloat\u001B[39m)):\n",
      "\u001B[1;31mTypeError\u001B[0m: x value has to be either int or float, not <class 'str'>"
     ]
    }
   ],
   "source": [
    "from geometry_shapes import Circle, Rectangle\n",
    "import math\n",
    "\n",
    "circle1 = Circle(0,0,1)\n",
    "circle2 = Circle(1,1,1)\n",
    "rectangle1 = Rectangle(0,0,1,1)\n",
    "\n",
    "print(circle1 == circle2)\n",
    "print(circle1 == rectangle1)\n",
    "print(circle1.is_inside_circle(0.5,0.5))\n",
    "circle1.translate(5,5)\n",
    "print(circle1.is_inside_circle(0.5,0.5))\n",
    "circle1.translate(\"TRE\",5)"
   ]
  },
  {
   "cell_type": "code",
   "execution_count": null,
   "outputs": [],
   "source": [],
   "metadata": {
    "collapsed": false
   },
   "id": "d78d630a13305d22"
  }
 ],
 "metadata": {
  "kernelspec": {
   "display_name": "Python 3",
   "language": "python",
   "name": "python3"
  },
  "language_info": {
   "codemirror_mode": {
    "name": "ipython",
    "version": 2
   },
   "file_extension": ".py",
   "mimetype": "text/x-python",
   "name": "python",
   "nbconvert_exporter": "python",
   "pygments_lexer": "ipython2",
   "version": "2.7.6"
  }
 },
 "nbformat": 4,
 "nbformat_minor": 5
}
