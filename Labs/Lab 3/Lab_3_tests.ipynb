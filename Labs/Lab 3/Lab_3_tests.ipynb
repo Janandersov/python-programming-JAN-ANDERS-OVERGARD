{
 "cells": [
  {
   "cell_type": "markdown",
   "source": [
    "### Testing code with prompts from the lab description "
   ],
   "metadata": {
    "collapsed": false
   },
   "id": "4e86fcab94e9e082"
  },
  {
   "cell_type": "code",
   "execution_count": 13,
   "id": "initial_id",
   "metadata": {
    "collapsed": true,
    "ExecuteTime": {
     "end_time": "2023-10-19T09:13:09.633485100Z",
     "start_time": "2023-10-19T09:13:09.482605400Z"
    }
   },
   "outputs": [
    {
     "name": "stdout",
     "output_type": "stream",
     "text": [
      "True\n",
      "False\n",
      "True\n",
      "False\n"
     ]
    },
    {
     "ename": "TypeError",
     "evalue": "x value has to be either int or float, not <class 'str'>",
     "output_type": "error",
     "traceback": [
      "\u001B[1;31m---------------------------------------------------------------------------\u001B[0m",
      "\u001B[1;31mTypeError\u001B[0m                                 Traceback (most recent call last)",
      "Cell \u001B[1;32mIn[13], line 16\u001B[0m\n\u001B[0;32m     14\u001B[0m circle1\u001B[38;5;241m.\u001B[39mtranslate(\u001B[38;5;241m5\u001B[39m,\u001B[38;5;241m5\u001B[39m)\n\u001B[0;32m     15\u001B[0m \u001B[38;5;28mprint\u001B[39m(circle1\u001B[38;5;241m.\u001B[39mis_inside_circle(\u001B[38;5;241m0.5\u001B[39m,\u001B[38;5;241m0.5\u001B[39m)) \u001B[38;5;66;03m# Should be false\u001B[39;00m\n\u001B[1;32m---> 16\u001B[0m \u001B[43mcircle1\u001B[49m\u001B[38;5;241;43m.\u001B[39;49m\u001B[43mtranslate\u001B[49m\u001B[43m(\u001B[49m\u001B[38;5;124;43m\"\u001B[39;49m\u001B[38;5;124;43mTRE\u001B[39;49m\u001B[38;5;124;43m\"\u001B[39;49m\u001B[43m,\u001B[49m\u001B[38;5;241;43m5\u001B[39;49m\u001B[43m)\u001B[49m \u001B[38;5;66;03m# Should give a TypeError\u001B[39;00m\n",
      "File \u001B[1;32m~\\Documents\\GitHub\\python-programming-JAN-ANDERS-OVERGARD\\Labs\\Lab 3\\geometry_shapes.py:59\u001B[0m, in \u001B[0;36mShape.translate\u001B[1;34m(self, x_value, y_value)\u001B[0m\n\u001B[0;32m     57\u001B[0m \u001B[38;5;28;01mdef\u001B[39;00m \u001B[38;5;21mtranslate\u001B[39m(\u001B[38;5;28mself\u001B[39m, x_value: (\u001B[38;5;28mint\u001B[39m \u001B[38;5;241m|\u001B[39m \u001B[38;5;28mfloat\u001B[39m), y_value: (\u001B[38;5;28mint\u001B[39m \u001B[38;5;241m|\u001B[39m \u001B[38;5;28mfloat\u001B[39m)):\n\u001B[0;32m     58\u001B[0m     \u001B[38;5;28;01mif\u001B[39;00m \u001B[38;5;129;01mnot\u001B[39;00m \u001B[38;5;28misinstance\u001B[39m(x_value, (\u001B[38;5;28mint\u001B[39m, \u001B[38;5;28mfloat\u001B[39m)):\n\u001B[1;32m---> 59\u001B[0m         \u001B[38;5;28;01mraise\u001B[39;00m \u001B[38;5;167;01mTypeError\u001B[39;00m(\u001B[38;5;124mf\u001B[39m\u001B[38;5;124m\"\u001B[39m\u001B[38;5;124mx value has to be either int or float, not \u001B[39m\u001B[38;5;132;01m{\u001B[39;00m\u001B[38;5;28mtype\u001B[39m(x_value)\u001B[38;5;132;01m}\u001B[39;00m\u001B[38;5;124m\"\u001B[39m)\n\u001B[0;32m     60\u001B[0m     \u001B[38;5;28mself\u001B[39m\u001B[38;5;241m.\u001B[39mx_position \u001B[38;5;241m=\u001B[39m x_value\n\u001B[0;32m     62\u001B[0m     \u001B[38;5;28;01mif\u001B[39;00m \u001B[38;5;129;01mnot\u001B[39;00m \u001B[38;5;28misinstance\u001B[39m(y_value, (\u001B[38;5;28mint\u001B[39m, \u001B[38;5;28mfloat\u001B[39m)):\n",
      "\u001B[1;31mTypeError\u001B[0m: x value has to be either int or float, not <class 'str'>"
     ]
    }
   ],
   "source": [
    "from geometry_shapes import Circle, Rectangle\n",
    "import math\n",
    "\n",
    "circle1 = Circle(0,0,1) # Unit circle\n",
    "circle2 = Circle(1,1,1)\n",
    "circle3 = Circle(0,0,3)\n",
    "rectangle1 = Rectangle(0,0,1,1) # Square\n",
    "rectangle2 = Rectangle(1,1,1,1) # Square\n",
    "rectangle3 = Rectangle(1,1,3,4)\n",
    "\n",
    "print(circle1 == circle2) # Should be true\n",
    "print(circle1 == rectangle1) # Should be false\n",
    "print(circle1.is_inside_circle(0.5,0.5)) # Should be true\n",
    "circle1.translate(5,5)\n",
    "print(circle1.is_inside_circle(0.5,0.5)) # Should be false\n",
    "circle1.translate(\"TRE\",5) # Should give a TypeError"
   ]
  },
  {
   "cell_type": "markdown",
   "source": [
    "### Equal operator testing"
   ],
   "metadata": {
    "collapsed": false
   },
   "id": "7ebbb1beca43ed4d"
  },
  {
   "cell_type": "code",
   "execution_count": 14,
   "outputs": [
    {
     "name": "stdout",
     "output_type": "stream",
     "text": [
      "True\n",
      "False\n",
      "True\n",
      "False\n"
     ]
    }
   ],
   "source": [
    "print(circle1 == circle2) # Should be true\n",
    "print(circle2 == circle3) # Should be false\n",
    "print(rectangle1 == rectangle2) # Should be true\n",
    "print(rectangle2 == rectangle3) # Should be false"
   ],
   "metadata": {
    "collapsed": false,
    "ExecuteTime": {
     "end_time": "2023-10-19T09:13:13.586429500Z",
     "start_time": "2023-10-19T09:13:13.557222300Z"
    }
   },
   "id": "d98d34f6cc6ac0a9"
  },
  {
   "cell_type": "markdown",
   "source": [
    "### Less than operator testing"
   ],
   "metadata": {
    "collapsed": false
   },
   "id": "7adc4af3c7343e0c"
  },
  {
   "cell_type": "code",
   "execution_count": 15,
   "outputs": [
    {
     "name": "stdout",
     "output_type": "stream",
     "text": [
      "False\n",
      "True\n",
      "False\n",
      "True\n"
     ]
    }
   ],
   "source": [
    "print(circle1 < circle2) # Should be false\n",
    "print(circle2 < circle3) # Should be true\n",
    "print(rectangle1 < rectangle2) # Should be false\n",
    "print(rectangle2 < rectangle3) # Should be true"
   ],
   "metadata": {
    "collapsed": false,
    "ExecuteTime": {
     "end_time": "2023-10-19T09:13:15.796995500Z",
     "start_time": "2023-10-19T09:13:15.768900200Z"
    }
   },
   "id": "92c16d3b97fe83e0"
  },
  {
   "cell_type": "markdown",
   "source": [
    "### Greater than operator testing"
   ],
   "metadata": {
    "collapsed": false
   },
   "id": "5b720fd944cec269"
  },
  {
   "cell_type": "code",
   "execution_count": 16,
   "outputs": [
    {
     "name": "stdout",
     "output_type": "stream",
     "text": [
      "False\n",
      "False\n",
      "False\n",
      "False\n"
     ]
    }
   ],
   "source": [
    "print(circle1 > circle2) # Should be false\n",
    "print(circle2 > circle3) # Should be false\n",
    "print(rectangle1 > rectangle2) # Should be false\n",
    "print(rectangle2 > rectangle3) # Should be false"
   ],
   "metadata": {
    "collapsed": false,
    "ExecuteTime": {
     "end_time": "2023-10-19T09:13:19.942429800Z",
     "start_time": "2023-10-19T09:13:19.910404300Z"
    }
   },
   "id": "2adb9c777b6b3030"
  },
  {
   "cell_type": "markdown",
   "source": [
    "### Less than or equal to operator testing"
   ],
   "metadata": {
    "collapsed": false
   },
   "id": "cfea4f4e8e292621"
  },
  {
   "cell_type": "code",
   "execution_count": 17,
   "outputs": [
    {
     "name": "stdout",
     "output_type": "stream",
     "text": [
      "True\n",
      "True\n",
      "True\n",
      "True\n"
     ]
    }
   ],
   "source": [
    "print(circle1 <= circle2) # Should be true\n",
    "print(circle2 <= circle3) # Should be true\n",
    "print(rectangle1 <= rectangle2) # Should be true\n",
    "print(rectangle2 <= rectangle3) # Should be true"
   ],
   "metadata": {
    "collapsed": false,
    "ExecuteTime": {
     "end_time": "2023-10-19T09:13:22.607110100Z",
     "start_time": "2023-10-19T09:13:22.573090400Z"
    }
   },
   "id": "628c839d8a630b03"
  },
  {
   "cell_type": "markdown",
   "source": [
    "### Greater than or equal to operator testing"
   ],
   "metadata": {
    "collapsed": false
   },
   "id": "4ffc291ae07b1e2d"
  },
  {
   "cell_type": "code",
   "execution_count": 18,
   "outputs": [
    {
     "name": "stdout",
     "output_type": "stream",
     "text": [
      "True\n",
      "False\n",
      "True\n",
      "False\n"
     ]
    }
   ],
   "source": [
    "print(circle1 >= circle2) # Should be true\n",
    "print(circle2 >= circle3) # Should be false\n",
    "print(rectangle1 >= rectangle2) # Should be true\n",
    "print(rectangle2 >= rectangle3) # Should be false"
   ],
   "metadata": {
    "collapsed": false,
    "ExecuteTime": {
     "end_time": "2023-10-19T09:13:25.256661800Z",
     "start_time": "2023-10-19T09:13:25.232546600Z"
    }
   },
   "id": "7688e1e9fad494b9"
  },
  {
   "cell_type": "markdown",
   "source": [
    "### Type error testing"
   ],
   "metadata": {
    "collapsed": false
   },
   "id": "f36dd264db0a4a54"
  },
  {
   "cell_type": "code",
   "execution_count": 19,
   "outputs": [
    {
     "ename": "TypeError",
     "evalue": "x value has to be either int or float, not <class 'str'>",
     "output_type": "error",
     "traceback": [
      "\u001B[1;31m---------------------------------------------------------------------------\u001B[0m",
      "\u001B[1;31mTypeError\u001B[0m                                 Traceback (most recent call last)",
      "Cell \u001B[1;32mIn[19], line 1\u001B[0m\n\u001B[1;32m----> 1\u001B[0m \u001B[38;5;28mprint\u001B[39m(\u001B[43mcircle1\u001B[49m\u001B[38;5;241;43m.\u001B[39;49m\u001B[43mtranslate\u001B[49m\u001B[43m(\u001B[49m\u001B[38;5;124;43m\"\u001B[39;49m\u001B[38;5;124;43m7\u001B[39;49m\u001B[38;5;124;43m\"\u001B[39;49m\u001B[43m,\u001B[49m\u001B[38;5;241;43m1\u001B[39;49m\u001B[43m)\u001B[49m) \u001B[38;5;66;03m# Should give x TypeError\u001B[39;00m\n",
      "File \u001B[1;32m~\\Documents\\GitHub\\python-programming-JAN-ANDERS-OVERGARD\\Labs\\Lab 3\\geometry_shapes.py:59\u001B[0m, in \u001B[0;36mShape.translate\u001B[1;34m(self, x_value, y_value)\u001B[0m\n\u001B[0;32m     57\u001B[0m \u001B[38;5;28;01mdef\u001B[39;00m \u001B[38;5;21mtranslate\u001B[39m(\u001B[38;5;28mself\u001B[39m, x_value: (\u001B[38;5;28mint\u001B[39m \u001B[38;5;241m|\u001B[39m \u001B[38;5;28mfloat\u001B[39m), y_value: (\u001B[38;5;28mint\u001B[39m \u001B[38;5;241m|\u001B[39m \u001B[38;5;28mfloat\u001B[39m)):\n\u001B[0;32m     58\u001B[0m     \u001B[38;5;28;01mif\u001B[39;00m \u001B[38;5;129;01mnot\u001B[39;00m \u001B[38;5;28misinstance\u001B[39m(x_value, (\u001B[38;5;28mint\u001B[39m, \u001B[38;5;28mfloat\u001B[39m)):\n\u001B[1;32m---> 59\u001B[0m         \u001B[38;5;28;01mraise\u001B[39;00m \u001B[38;5;167;01mTypeError\u001B[39;00m(\u001B[38;5;124mf\u001B[39m\u001B[38;5;124m\"\u001B[39m\u001B[38;5;124mx value has to be either int or float, not \u001B[39m\u001B[38;5;132;01m{\u001B[39;00m\u001B[38;5;28mtype\u001B[39m(x_value)\u001B[38;5;132;01m}\u001B[39;00m\u001B[38;5;124m\"\u001B[39m)\n\u001B[0;32m     60\u001B[0m     \u001B[38;5;28mself\u001B[39m\u001B[38;5;241m.\u001B[39mx_position \u001B[38;5;241m=\u001B[39m x_value\n\u001B[0;32m     62\u001B[0m     \u001B[38;5;28;01mif\u001B[39;00m \u001B[38;5;129;01mnot\u001B[39;00m \u001B[38;5;28misinstance\u001B[39m(y_value, (\u001B[38;5;28mint\u001B[39m, \u001B[38;5;28mfloat\u001B[39m)):\n",
      "\u001B[1;31mTypeError\u001B[0m: x value has to be either int or float, not <class 'str'>"
     ]
    }
   ],
   "source": [
    "print(circle1.translate(\"7\",1)) # Should give x TypeError"
   ],
   "metadata": {
    "collapsed": false,
    "ExecuteTime": {
     "end_time": "2023-10-19T09:19:43.412958Z",
     "start_time": "2023-10-19T09:19:43.369950800Z"
    }
   },
   "id": "b8b41d9974b0b9"
  },
  {
   "cell_type": "code",
   "execution_count": 22,
   "outputs": [
    {
     "ename": "TypeError",
     "evalue": "y value has to be either int or float, not <class 'str'>",
     "output_type": "error",
     "traceback": [
      "\u001B[1;31m---------------------------------------------------------------------------\u001B[0m",
      "\u001B[1;31mTypeError\u001B[0m                                 Traceback (most recent call last)",
      "Cell \u001B[1;32mIn[22], line 1\u001B[0m\n\u001B[1;32m----> 1\u001B[0m \u001B[38;5;28mprint\u001B[39m(\u001B[43mcircle1\u001B[49m\u001B[38;5;241;43m.\u001B[39;49m\u001B[43mtranslate\u001B[49m\u001B[43m(\u001B[49m\u001B[38;5;241;43m1\u001B[39;49m\u001B[43m,\u001B[49m\u001B[38;5;124;43m\"\u001B[39;49m\u001B[38;5;124;43mcake\u001B[39;49m\u001B[38;5;124;43m\"\u001B[39;49m\u001B[43m)\u001B[49m) \u001B[38;5;66;03m# Should give y TypeError\u001B[39;00m\n",
      "File \u001B[1;32m~\\Documents\\GitHub\\python-programming-JAN-ANDERS-OVERGARD\\Labs\\Lab 3\\geometry_shapes.py:63\u001B[0m, in \u001B[0;36mShape.translate\u001B[1;34m(self, x_value, y_value)\u001B[0m\n\u001B[0;32m     60\u001B[0m \u001B[38;5;28mself\u001B[39m\u001B[38;5;241m.\u001B[39mx_position \u001B[38;5;241m=\u001B[39m x_value\n\u001B[0;32m     62\u001B[0m \u001B[38;5;28;01mif\u001B[39;00m \u001B[38;5;129;01mnot\u001B[39;00m \u001B[38;5;28misinstance\u001B[39m(y_value, (\u001B[38;5;28mint\u001B[39m, \u001B[38;5;28mfloat\u001B[39m)):\n\u001B[1;32m---> 63\u001B[0m     \u001B[38;5;28;01mraise\u001B[39;00m \u001B[38;5;167;01mTypeError\u001B[39;00m(\u001B[38;5;124mf\u001B[39m\u001B[38;5;124m\"\u001B[39m\u001B[38;5;124my value has to be either int or float, not \u001B[39m\u001B[38;5;132;01m{\u001B[39;00m\u001B[38;5;28mtype\u001B[39m(y_value)\u001B[38;5;132;01m}\u001B[39;00m\u001B[38;5;124m\"\u001B[39m)\n\u001B[0;32m     64\u001B[0m \u001B[38;5;28mself\u001B[39m\u001B[38;5;241m.\u001B[39my_position \u001B[38;5;241m=\u001B[39m y_value\n",
      "\u001B[1;31mTypeError\u001B[0m: y value has to be either int or float, not <class 'str'>"
     ]
    }
   ],
   "source": [
    "print(circle1.translate(1,\"cake\")) # Should give y TypeError"
   ],
   "metadata": {
    "collapsed": false,
    "ExecuteTime": {
     "end_time": "2023-10-19T09:20:28.059758100Z",
     "start_time": "2023-10-19T09:20:28.027072800Z"
    }
   },
   "id": "bbb97b973110efa"
  },
  {
   "cell_type": "markdown",
   "source": [
    "### Circle property testing"
   ],
   "metadata": {
    "collapsed": false
   },
   "id": "1bc1c7c601173103"
  },
  {
   "cell_type": "code",
   "execution_count": 23,
   "outputs": [
    {
     "name": "stdout",
     "output_type": "stream",
     "text": [
      "3.141592653589793\n",
      "1\n",
      "6.283185307179586\n",
      "False\n",
      "\n",
      "3.141592653589793\n",
      "1\n",
      "6.283185307179586\n",
      "False\n",
      "\n",
      "28.274333882308138\n",
      "3\n",
      "18.84955592153876\n",
      "False\n"
     ]
    }
   ],
   "source": [
    "print(circle1.area)\n",
    "print(circle1.radius)\n",
    "print(circle1.circumference)\n",
    "print(circle1.is_unit_circle())\n",
    "print()\n",
    "print(circle2.area)\n",
    "print(circle2.radius)\n",
    "print(circle2.circumference)\n",
    "print(circle2.is_unit_circle())\n",
    "print()\n",
    "print(circle3.area)\n",
    "print(circle3.radius)\n",
    "print(circle3.circumference)\n",
    "print(circle3.is_unit_circle())"
   ],
   "metadata": {
    "collapsed": false,
    "ExecuteTime": {
     "end_time": "2023-10-19T09:26:06.906838800Z",
     "start_time": "2023-10-19T09:26:06.859632900Z"
    }
   },
   "id": "548290d0490e10b"
  },
  {
   "cell_type": "markdown",
   "source": [
    "### Rectangle property testing"
   ],
   "metadata": {
    "collapsed": false
   },
   "id": "78ee64da26123c3f"
  },
  {
   "cell_type": "code",
   "execution_count": 24,
   "outputs": [
    {
     "name": "stdout",
     "output_type": "stream",
     "text": [
      "1\n",
      "4\n",
      "True\n",
      "\n",
      "1\n",
      "4\n",
      "True\n",
      "\n",
      "12\n",
      "14\n",
      "False\n"
     ]
    }
   ],
   "source": [
    "print(rectangle1.area)\n",
    "print(rectangle1.circumference)\n",
    "print(rectangle1.is_square())\n",
    "print()\n",
    "print(rectangle2.area)\n",
    "print(rectangle2.circumference)\n",
    "print(rectangle2.is_square())\n",
    "print()\n",
    "print(rectangle3.area)\n",
    "print(rectangle3.circumference)\n",
    "print(rectangle3.is_square())\n",
    "print()"
   ],
   "metadata": {
    "collapsed": false,
    "ExecuteTime": {
     "end_time": "2023-10-19T09:30:31.546834Z",
     "start_time": "2023-10-19T09:30:31.496553300Z"
    }
   },
   "id": "8ec6c6d19837a93c"
  },
  {
   "cell_type": "markdown",
   "source": [
    "### Point inside shapes testing"
   ],
   "metadata": {
    "collapsed": false
   },
   "id": "af3b20102e24a72"
  },
  {
   "cell_type": "code",
   "execution_count": 25,
   "outputs": [
    {
     "name": "stdout",
     "output_type": "stream",
     "text": [
      "True\n",
      "False\n",
      "True\n",
      "\n",
      "True\n",
      "False\n",
      "True\n"
     ]
    }
   ],
   "source": [
    "circle4 = Circle(0,0,1)\n",
    "rectangle4 = Rectangle(0,0,3,3)\n",
    "\n",
    "print(circle4.is_inside_circle(0.5,0.5)) # Should be true\n",
    "circle4.translate(3,3)\n",
    "print(circle4.is_inside_circle(0.5,0.5)) # Should be false\n",
    "print(circle4.is_inside_circle(3.5,3.5)) # Should be true\n",
    "print()\n",
    "print(rectangle4.is_inside_rectangle(0.5,0.5)) # Should be true\n",
    "rectangle4.translate(3,3)\n",
    "print(rectangle4.is_inside_rectangle(0.5,0.5)) # Should be false\n",
    "print(rectangle4.is_inside_rectangle(3.5,3.5)) # Should be true"
   ],
   "metadata": {
    "collapsed": false,
    "ExecuteTime": {
     "end_time": "2023-10-19T09:38:05.843631700Z",
     "start_time": "2023-10-19T09:38:05.788775Z"
    }
   },
   "id": "e97a97c2060573bf"
  },
  {
   "cell_type": "code",
   "execution_count": null,
   "outputs": [],
   "source": [],
   "metadata": {
    "collapsed": false
   },
   "id": "e8ac60e8ab60d4e7"
  }
 ],
 "metadata": {
  "kernelspec": {
   "display_name": "Python 3",
   "language": "python",
   "name": "python3"
  },
  "language_info": {
   "codemirror_mode": {
    "name": "ipython",
    "version": 2
   },
   "file_extension": ".py",
   "mimetype": "text/x-python",
   "name": "python",
   "nbconvert_exporter": "python",
   "pygments_lexer": "ipython2",
   "version": "2.7.6"
  }
 },
 "nbformat": 4,
 "nbformat_minor": 5
}
